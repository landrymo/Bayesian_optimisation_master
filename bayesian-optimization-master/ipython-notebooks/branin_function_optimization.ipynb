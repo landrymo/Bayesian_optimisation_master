{
 "cells": [
  {
   "cell_type": "markdown",
   "metadata": {},
   "source": [
    "## Branin function as optimization benchmark\n",
    "https://www.sfu.ca/~ssurjano/branin.html"
   ]
  },
  {
   "cell_type": "code",
   "execution_count": 40,
   "metadata": {},
   "outputs": [],
   "source": [
    "import numpy as np\n",
    "import matplotlib.pyplot as plt"
   ]
  },
  {
   "cell_type": "code",
   "execution_count": 7,
   "metadata": {},
   "outputs": [],
   "source": [
    "a = 1.; b = 5.1/(4*np.pi**2); c = 5./np.pi\n",
    "r = 6.; s = 10.; t = 1/(8.*np.pi)\n"
   ]
  },
  {
   "cell_type": "code",
   "execution_count": 52,
   "metadata": {},
   "outputs": [],
   "source": [
    "def barnin_function(x):\n",
    "    \"\"\"\n",
    "    barnin function\n",
    "    input\n",
    "        x :  a 2 x N np.array; x_1 needs to be in [-5,10], x_2 needs to be in [0,15]\n",
    "    \"\"\"\n",
    "    # fixed values\n",
    "    a = 1.; b = 5.1/(4*np.pi**2); c = 5./np.pi\n",
    "    r = 6.; s = 10.; t = 1/(8.*np.pi)\n",
    "    #x = np.atleast_2d(x)\n",
    "    x1 = x[0,:]\n",
    "    x2 = x[1,:]\n",
    "    assert (-5 <= x1).any()\n",
    "    assert ( x1 <= 10).any()\n",
    "    assert (0 <= x2).any()\n",
    "    assert ( x2 <= 15).any()\n",
    "    \n",
    "    res = a*(x2-b*x1**2+c*x1-r)**2 + s*(1-t)-np.cos(x1)+s\n",
    "    return res \n",
    "\n",
    "N = 100\n",
    "x = np.random.random((2,N))*15+np.array([[-5],[0]])\n",
    "y = barnin_function(x)"
   ]
  },
  {
   "cell_type": "code",
   "execution_count": null,
   "metadata": {},
   "outputs": [],
   "source": [
    "import sklearn.gaussian_process as gp\n",
    "kernel = gp.kernels.Matern()\n",
    "model = gp.GaussianProcessRegressor(kernel=kernel,\n",
    "                                            alpha=1e-5,\n",
    "                                            n_restarts_optimizer=10,\n",
    "                                            normalize_y=True)"
   ]
  },
  {
   "cell_type": "code",
   "execution_count": null,
   "metadata": {},
   "outputs": [],
   "source": []
  },
  {
   "cell_type": "code",
   "execution_count": 54,
   "metadata": {},
   "outputs": [
    {
     "name": "stdout",
     "output_type": "stream",
     "text": [
      "[0.         6.06060606]\n"
     ]
    },
    {
     "data": {
      "image/png": "[encoded data removed]",
      "text/plain": [
       "<Figure size 432x288 with 2 Axes>"
      ]
     },
     "metadata": {},
     "output_type": "display_data"
    }
   ],
   "source": [
    "lambdas = np.linspace(-5, 10, 100)\n",
    "gammas = np.linspace(0, 15, 100)\n",
    "\n",
    "# We need the cartesian combination of these two vectors\n",
    "param_grid = np.array([[C, gamma] for gamma in gammas for C in lambdas])\n",
    "\n",
    "real_loss = [barnin_function(params[:,np.newaxis]) for params in param_grid]\n",
    "\n",
    "# The maximum is at:\n",
    "print param_grid[np.array(real_loss).argmin(), :]\n",
    "from matplotlib import rc\n",
    "rc('text', usetex=True)\n",
    "\n",
    "C, G = np.meshgrid(lambdas, gammas)\n",
    "plt.figure()\n",
    "cp = plt.contourf(C, G, np.array(real_loss).reshape(C.shape))\n",
    "plt.colorbar(cp)\n",
    "plt.show()"
   ]
  },
  {
   "cell_type": "code",
   "execution_count": 58,
   "metadata": {},
   "outputs": [
    {
     "data": {
      "text/plain": [
       "GaussianProcessRegressor(alpha=1e-05, copy_X_train=True,\n",
       "             kernel=Matern(length_scale=1, nu=1.5),\n",
       "             n_restarts_optimizer=10, normalize_y=True,\n",
       "             optimizer='fmin_l_bfgs_b', random_state=None)"
      ]
     },
     "execution_count": 58,
     "metadata": {},
     "output_type": "execute_result"
    }
   ],
   "source": [
    "model.fit(x.transpose(), y)"
   ]
  },
  {
   "cell_type": "code",
   "execution_count": 65,
   "metadata": {},
   "outputs": [
    {
     "name": "stdout",
     "output_type": "stream",
     "text": [
      "[6.36363636 1.06060606]\n"
     ]
    },
    {
     "data": {
      "image/png": "[encoded data removed]",
      "text/plain": [
       "<Figure size 432x288 with 2 Axes>"
      ]
     },
     "metadata": {},
     "output_type": "display_data"
    }
   ],
   "source": [
    "\n",
    "real_loss = [model.predict(params.reshape(1,-1)) for params in param_grid]\n",
    "\n",
    "# The maximum is at:\n",
    "print param_grid[np.array(real_loss).argmin(), :]\n",
    "from matplotlib import rc\n",
    "rc('text', usetex=True)\n",
    "\n",
    "C, G = np.meshgrid(lambdas, gammas)\n",
    "plt.figure()\n",
    "cp = plt.contourf(C, G, np.array(real_loss).reshape(C.shape))\n",
    "plt.colorbar(cp)\n",
    "plt.show()"
   ]
  },
  {
   "cell_type": "code",
   "execution_count": 63,
   "metadata": {},
   "outputs": [
    {
     "data": {
      "text/plain": [
       "array([83.14406227])"
      ]
     },
     "execution_count": 63,
     "metadata": {},
     "output_type": "execute_result"
    }
   ],
   "source": []
  }
 ],
 "metadata": {
  "kernelspec": {
   "display_name": "Python 2",
   "language": "python",
   "name": "python2"
  },
  "language_info": {
   "codemirror_mode": {
    "name": "ipython",
    "version": 2
   },
   "file_extension": ".py",
   "mimetype": "text/x-python",
   "name": "python",
   "nbconvert_exporter": "python",
   "pygments_lexer": "ipython2",
   "version": "2.7.12"
  }
 },
 "nbformat": 4,
 "nbformat_minor": 1
}
