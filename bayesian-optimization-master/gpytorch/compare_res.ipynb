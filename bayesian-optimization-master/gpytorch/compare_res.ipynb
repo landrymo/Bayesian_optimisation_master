{
 "cells": [
  {
   "cell_type": "code",
   "execution_count": 1,
   "metadata": {
    "collapsed": true
   },
   "outputs": [],
   "source": [
    "from matplotlib import pyplot as plt\n",
    "import seaborn as sns\n",
    "import numpy as np\n"
   ]
  },
  {
   "cell_type": "code",
   "execution_count": 4,
   "metadata": {
    "collapsed": false
   },
   "outputs": [],
   "source": [
    "import pickle\n",
    "dict_all_res= pickle.load(open('first_sim_bo_M_40.pkl', 'rb'))\n"
   ]
  },
  {
   "cell_type": "code",
   "execution_count": 8,
   "metadata": {
    "collapsed": false
   },
   "outputs": [
    {
     "data": {
      "image/png": "[encoded data removed]",
      "text/plain": [
       "<Figure size 432x288 with 1 Axes>"
      ]
     },
     "metadata": {},
     "output_type": "display_data"
    }
   ],
   "source": [
    "sample_sizes_list = [5, 10, 20]#, 100]\n",
    "M_rep = 2#40\n",
    "sampling_types_list = ['MC', 'RQMC']\n",
    "\n",
    "\n",
    "list_res_plotting = []\n",
    "labels_list = []\n",
    "for i_sampling_type in sampling_types_list:\n",
    "    for i_sample_size in sample_sizes_list: \n",
    "        list_res_plotting.append(dict_all_res[str(i_sample_size)][i_sampling_type]['y'])\n",
    "        labels_list.append(str(i_sample_size)+'_'+i_sampling_type)\n",
    "#res_list = [res['y'] for res in ]\n",
    "plt.boxplot(list_res_plotting, labels=labels_list)\n",
    "#plt.savefig('boxplot_compare_M_%s.png' % M_rep)\n",
    "plt.show()\n"
   ]
  }
 ],
 "metadata": {
  "kernelspec": {
   "display_name": "Python 2",
   "language": "python",
   "name": "python2"
  },
  "language_info": {
   "codemirror_mode": {
    "name": "ipython",
    "version": 2
   },
   "file_extension": ".py",
   "mimetype": "text/x-python",
   "name": "python",
   "nbconvert_exporter": "python",
   "pygments_lexer": "ipython2",
   "version": "2.7.15"
  }
 },
 "nbformat": 4,
 "nbformat_minor": 2
}
